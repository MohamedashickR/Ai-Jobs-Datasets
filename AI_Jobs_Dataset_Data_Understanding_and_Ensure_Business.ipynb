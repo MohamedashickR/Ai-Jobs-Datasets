{
  "nbformat": 4,
  "nbformat_minor": 0,
  "metadata": {
    "colab": {
      "provenance": [],
      "authorship_tag": "ABX9TyNBZOAsmQRKfY3StH6bRhdL",
      "include_colab_link": true
    },
    "kernelspec": {
      "name": "python3",
      "display_name": "Python 3"
    },
    "language_info": {
      "name": "python"
    }
  },
  "cells": [
    {
      "cell_type": "markdown",
      "metadata": {
        "id": "view-in-github",
        "colab_type": "text"
      },
      "source": [
        "<a href=\"https://colab.research.google.com/github/MohamedashickR/Ai-Jobs-Datasets/blob/main/AI_Jobs_Dataset_Data_Understanding_and_Ensure_Business.ipynb\" target=\"_parent\"><img src=\"https://colab.research.google.com/assets/colab-badge.svg\" alt=\"Open In Colab\"/></a>"
      ]
    },
    {
      "cell_type": "code",
      "source": [],
      "metadata": {
        "id": "5HP6MABjB53q"
      },
      "execution_count": null,
      "outputs": []
    },
    {
      "cell_type": "code",
      "source": [
        "import csv\n",
        "\n",
        "def readcsvtodict(filepath):\n",
        "\n",
        "  data = []\n",
        "  with open(filepath,'r') as file:\n",
        "    reader = csv.reader(file)\n",
        "    headers = next(reader)\n",
        "    print(headers)\n",
        "    for row in reader:\n",
        "      row_dict = {}\n",
        "      for i,header in enumerate(headers):\n",
        "        try:\n",
        "          if header in['salary_usd','remote_ratio','years_experience','job_description_length']:\n",
        "            row_dict[header] = int(row[i])\n",
        "          elif header == 'benefits_score':\n",
        "            row_dict[header] = float(row[i])\n",
        "          else:\n",
        "            row_dict[header] = row[i]\n",
        "        except ValueError:\n",
        "          row_dict[header] = row[i]\n",
        "      data.append(row_dict)\n",
        "  return data\n",
        "\n",
        "\n",
        "\n",
        "jobdata = readcsvtodict('/content/ai_job_dataset.csv')\n",
        "#Calculating Average Salary in USD\n",
        "\n",
        "total_salary = 0\n",
        "for job in jobdata:\n",
        "  total_salary += job['salary_usd']\n",
        "average_salary = total_salary / len(jobdata)\n",
        "print(f\"The Average Salary (USD) is: ${average_salary:,.2f}\\n\")\n"
      ],
      "metadata": {
        "colab": {
          "base_uri": "https://localhost:8080/"
        },
        "id": "qfxJ1q8jdKPP",
        "outputId": "d69e8f7f-aee3-4313-a965-ae3365671cdb"
      },
      "execution_count": null,
      "outputs": [
        {
          "output_type": "stream",
          "name": "stdout",
          "text": [
            "['job_id', 'job_title', 'salary_usd', 'salary_currency', 'experience_level', 'employment_type', 'company_location', 'company_size', 'employee_residence', 'remote_ratio', 'required_skills', 'education_required', 'years_experience', 'industry', 'posting_date', 'application_deadline', 'job_description_length', 'benefits_score', 'company_name']\n",
            "The Average Salary (USD) is: $115,348.97\n",
            "\n"
          ]
        }
      ]
    },
    {
      "cell_type": "code",
      "source": [
        "#Finding the most common job title\n",
        "\n",
        "job_title_counts = {}\n",
        "\n",
        "for job in jobdata:\n",
        "  title = job['job_title']\n",
        "  job_title_counts[title] = job_title_counts.get(title,0) + 1\n",
        "\n",
        "most_common_title = None\n",
        "max_count = 0\n",
        "\n",
        "for title,count in job_title_counts.items():\n",
        "  if count > max_count:\n",
        "    most_common_title = title\n",
        "    max_count = count\n",
        "print(f\"The most common title is : '{most_common_title}'appearing {max_count} times.\\n\")\n"
      ],
      "metadata": {
        "colab": {
          "base_uri": "https://localhost:8080/"
        },
        "id": "LSmIjI-MrebM",
        "outputId": "dac8c8d2-bf53-4e7b-a2b8-1d236d257d18"
      },
      "execution_count": null,
      "outputs": [
        {
          "output_type": "stream",
          "name": "stdout",
          "text": [
            "The most common title is : 'Machine Learning Researcher'appearing 808 times.\n",
            "\n"
          ]
        }
      ]
    },
    {
      "cell_type": "code",
      "source": [
        "#Count the number of unique company location values\n",
        "unique_locations = set()\n",
        "\n",
        "for job in jobdata:\n",
        "  unique_locations.add(job['company_location'])\n",
        "print(f\"There are {len(unique_locations)} unique company locations.\\n\")"
      ],
      "metadata": {
        "colab": {
          "base_uri": "https://localhost:8080/"
        },
        "id": "sYDgbJdrtlVk",
        "outputId": "a360f86c-fbba-45ec-efdf-58fa8019b557"
      },
      "execution_count": null,
      "outputs": [
        {
          "output_type": "stream",
          "name": "stdout",
          "text": [
            "There are 20 unique company locations.\n",
            "\n"
          ]
        }
      ]
    },
    {
      "cell_type": "code",
      "source": [
        "#Filtering Jobs based on experience Levels\n",
        "senior_jobs = []\n",
        "\n",
        "for job in jobdata:\n",
        "  if job['experience_level'] == 'SE':\n",
        "     senior_jobs.append(job)\n",
        "print(f\" There are {len(senior_jobs)} 'senior level' jobs in the dataset.\\n\")"
      ],
      "metadata": {
        "colab": {
          "base_uri": "https://localhost:8080/"
        },
        "id": "yKjcBt0AwP_c",
        "outputId": "158a3810-1f8a-49ff-84aa-f89bc48da914"
      },
      "execution_count": null,
      "outputs": [
        {
          "output_type": "stream",
          "name": "stdout",
          "text": [
            " There are 3741 'senior level' jobs in the dataset.\n",
            "\n"
          ]
        }
      ]
    },
    {
      "cell_type": "code",
      "source": [
        "#Display a sample of senior jobs (First 3)\n",
        "\n",
        "if senior_jobs:\n",
        "  for i,job in enumerate(senior_jobs[:3]):\n",
        "    print(f\"Job {i+1}: Title = {job['job_title']},salary =${job['salary_usd']:,.0f},company={job['company_name']}\\n\")\n",
        "else:\n",
        "  print(\"No senior level jobs found.\\n\")"
      ],
      "metadata": {
        "colab": {
          "base_uri": "https://localhost:8080/"
        },
        "id": "4n57nRH0w5qr",
        "outputId": "43816c65-9388-4951-aa82-ac2377a7318d"
      },
      "execution_count": null,
      "outputs": [
        {
          "output_type": "stream",
          "name": "stdout",
          "text": [
            "Job 1: Title = AI Research Scientist,salary =$90,376,company=Smart Analytics\n",
            "\n",
            "Job 2: Title = NLP Engineer,salary =$80,215,company=Future Systems\n",
            "\n",
            "Job 3: Title = AI Architect,salary =$123,574,company=Neural Networks Co\n",
            "\n"
          ]
        }
      ]
    },
    {
      "cell_type": "code",
      "source": [
        "#Calculate the median Salary\n",
        "\n",
        "salaries = []\n",
        "for job in jobdata:\n",
        "  salaries.append(job['salary_usd'])\n",
        "salaries.sort()\n",
        "\n",
        "n = len(salaries)\n",
        "\n",
        "if n % 2 == 0:\n",
        "  median_salary = (salaries[n // 2 - 1] + salaries[n // 2])/2\n",
        "  print(f\"The median Salary in USD using even is : ${median_salary:,.2f}\\n\")\n",
        "else:\n",
        "  median_salary = salaries[n//2]\n",
        "print(f\"The median Salary in USD is : ${median_salary:,.2f}\\n\")"
      ],
      "metadata": {
        "colab": {
          "base_uri": "https://localhost:8080/"
        },
        "id": "q_QgAwtJxK3t",
        "outputId": "68e09c80-a7f9-449b-bf6a-3c1ce97ef019"
      },
      "execution_count": null,
      "outputs": [
        {
          "output_type": "stream",
          "name": "stdout",
          "text": [
            "The median Salary in USD using even is : $99,705.00\n",
            "\n",
            "The median Salary in USD is : $99,705.00\n",
            "\n"
          ]
        }
      ]
    },
    {
      "cell_type": "code",
      "source": [
        "#Finding average years of experience of each experience level\n",
        "\n",
        "experience_level_data = {}\n",
        "\n",
        "for job in jobdata:\n",
        "  level = job['experience_level']\n",
        "  years = job['years_experience']\n",
        "  if level not in experience_level_data:\n",
        "    experience_level_data[level] = [0,0] #totalyears,count\n",
        "    experience_level_data[level][0] +=years\n",
        "    experience_level_data[level][1] +=1\n",
        "\n",
        "    #Average years of experience by experience level\n",
        "for level,data in experience_level_data.items():\n",
        "     avg_years = data[0] / data[1]\n",
        "     print(f\"The average years of experience for {level} is : {avg_years:.2f}\\n\")\n"
      ],
      "metadata": {
        "colab": {
          "base_uri": "https://localhost:8080/"
        },
        "id": "SBSFO78nxkdu",
        "outputId": "2f653780-2206-4452-e873-643ab708b207"
      },
      "execution_count": null,
      "outputs": [
        {
          "output_type": "stream",
          "name": "stdout",
          "text": [
            "The average years of experience for SE is : 9.00\n",
            "\n",
            "The average years of experience for EN is : 1.00\n",
            "\n",
            "The average years of experience for MI is : 2.00\n",
            "\n",
            "The average years of experience for EX is : 15.00\n",
            "\n"
          ]
        }
      ]
    },
    {
      "cell_type": "code",
      "source": [
        "#Determine the distrobution of remote ratio\n",
        "\n",
        "remote_ratio_counts = {}\n",
        "for job in jobdata:\n",
        "  ratio = job['remote_ratio']\n",
        "  remote_ratio_counts[ratio] = remote_ratio_counts.get(ratio,0)+1\n",
        "\n",
        "print(\"Distribution of remote ratios\")\n",
        "\n",
        "sorted_remote_ratios = sorted(remote_ratio_counts.items())\n",
        "for ratio,count in sorted_remote_ratios:\n",
        "    percentage = (count/len(jobdata))*100\n",
        "    print(f\"{ratio}: {count} ({percentage:.2f}%)\")\n",
        "    print(\"\\n\")"
      ],
      "metadata": {
        "colab": {
          "base_uri": "https://localhost:8080/"
        },
        "id": "Eb_E26-JyAA2",
        "outputId": "f5fc9bd1-e03d-4399-c286-a7d382433ea1"
      },
      "execution_count": null,
      "outputs": [
        {
          "output_type": "stream",
          "name": "stdout",
          "text": [
            "Distribution of remote ratios\n",
            "0: 5075 (33.83%)\n",
            "\n",
            "\n",
            "50: 5005 (33.37%)\n",
            "\n",
            "\n",
            "100: 4920 (32.80%)\n",
            "\n",
            "\n"
          ]
        }
      ]
    },
    {
      "cell_type": "code",
      "source": [
        "# Identify top 5 most skills:\n",
        "\n",
        "skill_counts = {}\n",
        "for job in jobdata:\n",
        "  skills_string = job['required_skills']\n",
        "  #Split skills by comma and strip whitespace from each skill\n",
        "  skills = [s.strip() for s in skills_string.split(',')]\n",
        "  for skill in skills:\n",
        "       if skill: #Ensure skill is not an empty string\n",
        "            skill_counts[skill] = skill_counts.get(skill,0) + 1\n",
        "\n",
        "    #Convert dictionary to a list of (skill,count) tuples for sorting\n",
        "sorted_skills = sorted(skill_counts.items(),key=lambda item: item[1],reverse=True)\n",
        "\n",
        "   #Printing top 5 most frequent skills\n",
        "\n",
        "for i,(skill,count) in enumerate(sorted_skills[:5]):\n",
        "        print(f\"{i + 1}.{skill}:{count} times\")"
      ],
      "metadata": {
        "colab": {
          "base_uri": "https://localhost:8080/"
        },
        "id": "3m5FADLlydzc",
        "outputId": "2ce36f24-9550-4ced-fb75-0cec53a67029"
      },
      "execution_count": null,
      "outputs": [
        {
          "output_type": "stream",
          "name": "stdout",
          "text": [
            "1.Python:4450 times\n",
            "2.SQL:3407 times\n",
            "3.TensorFlow:3022 times\n",
            "4.Kubernetes:3009 times\n",
            "5.Scala:2794 times\n"
          ]
        }
      ]
    },
    {
      "cell_type": "code",
      "source": [
        "# Identify the top 5 companies with the most job postingsob_data = [\n",
        "job_data = [\n",
        "    {\"company_name\": \"Tech Corp\", \"title\": \"Software Engineer\", \"location\": \"Remote\"},\n",
        "    {\"company_name\": \"Data Solutions\", \"title\": \"Data Analyst\", \"location\": \"New York\"},\n",
        "    {\"company_name\": \"Tech Corp\", \"title\": \"DevOps Engineer\", \"location\": \"London\"},\n",
        "    {\"company_name\": \"Innovate Inc\", \"title\": \"Product Manager\", \"location\": \"San Francisco\"},\n",
        "    {\"company_name\": \"Data Solutions\", \"title\": \"Data Scientist\", \"location\": \"New York\"},\n",
        "    {\"company_name\": \"Tech Corp\", \"title\": \"QA Engineer\", \"location\": \"Remote\"},\n",
        "]\n",
        "print(\"--- Task 8: Identify the top 5 companies with the most job postings ---\")\n",
        "print(\"Explanation: This task counts the number of job postings made by each company.\")\n",
        "company_counts = {}\n",
        "for job in job_data: # This line will now work if job_data is defined as above\n",
        "    company = job['company_name']\n",
        "    company_counts[company] = company_counts.get(company, 0) + 1\n",
        "\n",
        "# Sort companies by their job posting count in descending order\n",
        "sorted_companies = sorted(company_counts.items(), key=lambda item: item[1], reverse=True) # Corrected reverse=\n",
        "\n",
        "print(\"Top 5 companies with the most job postings:\")\n",
        "for i, (company, count) in enumerate(sorted_companies[:5]):\n",
        "    print(f\"{i+1}. {company}: {count} postings\")\n",
        "print(\"\\n\")\n"
      ],
      "metadata": {
        "colab": {
          "base_uri": "https://localhost:8080/"
        },
        "id": "RW2ZMTKj1yDl",
        "outputId": "22e1826f-ca20-4324-d385-6900a1db72a0"
      },
      "execution_count": null,
      "outputs": [
        {
          "output_type": "stream",
          "name": "stdout",
          "text": [
            "--- Task 8: Identify the top 5 companies with the most job postings ---\n",
            "Explanation: This task counts the number of job postings made by each company.\n",
            "Top 5 companies with the most job postings:\n",
            "1. Tech Corp: 3 postings\n",
            "2. Data Solutions: 2 postings\n",
            "3. Innovate Inc: 1 postings\n",
            "\n",
            "\n"
          ]
        }
      ]
    }
  ]
}